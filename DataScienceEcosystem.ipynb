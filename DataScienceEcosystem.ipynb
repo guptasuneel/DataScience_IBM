{
 "cells": [
  {
   "cell_type": "markdown",
   "id": "6768794e-2118-4196-8e97-4279196ca8c5",
   "metadata": {},
   "source": [
    "# Data Science Tools and Ecosystem"
   ]
  },
  {
   "cell_type": "markdown",
   "id": "bcc817bd-0d70-497d-b24a-111673b2b45c",
   "metadata": {},
   "source": [
    "In this notebook, Data Science Tools and Ecosystem are summarized.\r\n"
   ]
  },
  {
   "cell_type": "markdown",
   "id": "ecf905a0-e533-4275-aa63-af5d7cad9151",
   "metadata": {},
   "source": [
    "__Objectives:__\n",
    "- List popular languages for Data Science\n",
    "- List commonly used libraries used by Data Scientists\n",
    "- List common Data Science Tools"
   ]
  },
  {
   "cell_type": "markdown",
   "id": "7f8bb6ac-30da-43f6-9e6d-eaa9bf850ba0",
   "metadata": {},
   "source": [
    "## Author\n",
    "Suneel Gupta"
   ]
  },
  {
   "cell_type": "markdown",
   "id": "7809909a-84f0-49a8-8652-65ae1cd88f53",
   "metadata": {},
   "source": [
    "Some of the popular languages that Data Scientists use are:\n",
    "1. Python\n",
    "2. R\n",
    "3. Julia\r\n"
   ]
  },
  {
   "cell_type": "markdown",
   "id": "2afed662-e2ad-4fff-b9d5-bdb30c4bca7f",
   "metadata": {},
   "source": [
    "Some of the commonly used libraries used by Data Scientists include:\r\n",
    "1. NumPy\n",
    "2. pandas\n",
    "3. Matplotlib"
   ]
  },
  {
   "cell_type": "markdown",
   "id": "8c6cc326-4b0f-48a4-bc53-026550d04340",
   "metadata": {},
   "source": [
    "| Data Science Tools            |\n",
    "|-------------------------------|\n",
    "| Jupyter Notebook              |\n",
    "| RStudio                       |\n",
    "| Apache Zeppelin               |"
   ]
  },
  {
   "cell_type": "markdown",
   "id": "44d64c15-872f-4725-9287-ba9db2294208",
   "metadata": {},
   "source": [
    "### Below are a few examples of evaluating arithmetic expressions in Python.\n"
   ]
  },
  {
   "cell_type": "code",
   "execution_count": 2,
   "id": "a3313a3d-3250-4b9b-8c9c-f01fec44896a",
   "metadata": {},
   "outputs": [
    {
     "data": {
      "text/plain": [
       "17"
      ]
     },
     "execution_count": 2,
     "metadata": {},
     "output_type": "execute_result"
    }
   ],
   "source": [
    "(3*4)+5\n",
    "# This a simple arithmetic expression to mutiply then add integers"
   ]
  },
  {
   "cell_type": "code",
   "execution_count": 4,
   "id": "a568b678-3537-4404-819b-7b0b17b1b147",
   "metadata": {},
   "outputs": [
    {
     "name": "stdout",
     "output_type": "stream",
     "text": [
      "3.3333333333333335\n"
     ]
    }
   ],
   "source": [
    "# This will convert 200 minutes to hours by diving by 60\n",
    "hours = 200/60\n",
    "print(hours)"
   ]
  },
  {
   "cell_type": "markdown",
   "id": "4cca681f-f078-4c38-95f7-a20b5e1cc0bd",
   "metadata": {},
   "source": []
  }
 ],
 "metadata": {
  "kernelspec": {
   "display_name": "Python 3 (ipykernel)",
   "language": "python",
   "name": "python3"
  },
  "language_info": {
   "codemirror_mode": {
    "name": "ipython",
    "version": 3
   },
   "file_extension": ".py",
   "mimetype": "text/x-python",
   "name": "python",
   "nbconvert_exporter": "python",
   "pygments_lexer": "ipython3",
   "version": "3.11.7"
  }
 },
 "nbformat": 4,
 "nbformat_minor": 5
}
